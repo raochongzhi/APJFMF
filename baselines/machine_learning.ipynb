{
 "cells": [
  {
   "cell_type": "code",
   "execution_count": 1,
   "metadata": {
    "ExecuteTime": {
     "end_time": "2023-08-16T03:00:30.575041700Z",
     "start_time": "2023-08-16T03:00:28.408028400Z"
    },
    "tags": []
   },
   "outputs": [],
   "source": [
    "import pandas as pd\n",
    "import numpy as np\n",
    "from tqdm import tqdm\n",
    "import jieba\n",
    "import jieba.posseg as pseg\n",
    "import re\n",
    "from gensim.models import word2vec, Word2Vec\n",
    "from sklearn.model_selection import train_test_split\n",
    "from sklearn.linear_model import LogisticRegression\n",
    "from sklearn.metrics import accuracy_score, roc_auc_score, recall_score, precision_score, f1_score, classification_report\n",
    "from sklearn.tree import DecisionTreeClassifier\n",
    "from sklearn.ensemble import RandomForestClassifier,GradientBoostingClassifier,AdaBoostClassifier\n",
    "from sklearn.naive_bayes import GaussianNB"
   ]
  },
  {
   "cell_type": "code",
   "execution_count": 2,
   "metadata": {
    "ExecuteTime": {
     "end_time": "2023-08-16T03:00:47.929709400Z",
     "start_time": "2023-08-16T03:00:34.514592Z"
    },
    "collapsed": false,
    "jupyter": {
     "outputs_hidden": false
    }
   },
   "outputs": [],
   "source": [
    "dataset = pd.read_csv('dataset_user_job_all_1.csv')"
   ]
  },
  {
   "cell_type": "code",
   "execution_count": 3,
   "metadata": {
    "ExecuteTime": {
     "end_time": "2023-08-16T03:01:14.492380500Z",
     "start_time": "2023-08-16T03:01:14.412195700Z"
    },
    "collapsed": false,
    "jupyter": {
     "outputs_hidden": false
    }
   },
   "outputs": [],
   "source": [
    "stop_words = [line.strip() for line in open('chinese_stopword.txt',encoding='UTF-8').readlines()]\n",
    "\n",
    "def pretreatment(comment):\n",
    "\n",
    "    token_words = jieba.lcut(comment)\n",
    "    token_words = [w for w in token_words if w not in stop_words]\n",
    "    token_words =  pseg.cut(' '.join(token_words))\n",
    "    cleaned_word = []\n",
    "    for word, tag in token_words:\n",
    "        if word.isdigit():\n",
    "            continue\n",
    "        else:\n",
    "            cleaned_word.append(word)\n",
    "    return cleaned_word"
   ]
  },
  {
   "cell_type": "code",
   "execution_count": 4,
   "metadata": {
    "ExecuteTime": {
     "end_time": "2023-08-16T03:02:46.532878100Z",
     "start_time": "2023-08-16T03:01:17.548412400Z"
    },
    "collapsed": false,
    "jupyter": {
     "outputs_hidden": false
    }
   },
   "outputs": [
    {
     "name": "stderr",
     "output_type": "stream",
     "text": [
      "  0%|          | 0/138238 [00:00<?, ?it/s]Building prefix dict from the default dictionary ...\n",
      "Loading model from cache /tmp/jieba.cache\n",
      "Loading model cost 0.823 seconds.\n",
      "Prefix dict has been built successfully.\n",
      "100%|██████████| 138238/138238 [02:23<00:00, 964.06it/s] \n"
     ]
    }
   ],
   "source": [
    "segment_job =[]\n",
    "# job_set=pd.read_csv('job_information.csv')\n",
    "for content in tqdm(dataset[\"岗位描述\"].values):\n",
    "#     segment.append(pretreatment(content))\n",
    "    segment_job.append(list(jieba.cut(content)))\n",
    "dataset[\"text_job\"] = segment_job\n",
    "# job_set.to_csv(\"job_set_segment.csv\",index=False)"
   ]
  },
  {
   "cell_type": "code",
   "execution_count": 5,
   "metadata": {
    "ExecuteTime": {
     "start_time": "2023-08-16T03:02:53.104158900Z"
    },
    "collapsed": false,
    "is_executing": true,
    "jupyter": {
     "outputs_hidden": false
    }
   },
   "outputs": [
    {
     "name": "stderr",
     "output_type": "stream",
     "text": [
      "100%|██████████| 138238/138238 [12:42<00:00, 181.24it/s]\n"
     ]
    }
   ],
   "source": [
    "segment_user = []\n",
    "# job_set=pd.read_csv('job_information.csv')\n",
    "for content in tqdm(dataset[\"resume\"].values):\n",
    "#     segment.append(pretreatment(content))\n",
    "    segment_user.append(list(jieba.cut(content)))\n",
    "dataset[\"text_user\"] = segment_user\n",
    "# user_set.to_csv(\"user_set_segment.csv\",index=False)"
   ]
  },
  {
   "cell_type": "code",
   "execution_count": 6,
   "metadata": {
    "ExecuteTime": {
     "end_time": "2023-08-16T02:31:54.969036600Z",
     "start_time": "2023-08-16T02:14:32.395245900Z"
    },
    "collapsed": false,
    "jupyter": {
     "outputs_hidden": false
    }
   },
   "outputs": [],
   "source": [
    "# # 训练共享的word2vec模型\n",
    "# text_array = np.concatenate((dataset.text_job.values,dataset.text_user.values),axis=0)\n",
    "# w2v_model = word2vec.Word2Vec(text_array, size=200, window=5, min_count=2, workers=8, iter=10, sg=1)\n",
    "# w2v_model.save('autodl-fs/word2vec_shared.model')"
   ]
  },
  {
   "cell_type": "code",
   "execution_count": 8,
   "metadata": {
    "collapsed": false,
    "jupyter": {
     "outputs_hidden": false
    }
   },
   "outputs": [],
   "source": [
    "w2v_model = Word2Vec.load('autodl-fs/word2vec_shared.model')"
   ]
  },
  {
   "cell_type": "code",
   "execution_count": 9,
   "metadata": {
    "ExecuteTime": {
     "end_time": "2023-08-16T02:33:09.474205200Z",
     "start_time": "2023-08-16T02:33:09.419205800Z"
    },
    "collapsed": false,
    "jupyter": {
     "outputs_hidden": false
    }
   },
   "outputs": [],
   "source": [
    "word_present_list = list(w2v_model.wv.index2word)# 获取已转换的词\n",
    "# word_present_list"
   ]
  },
  {
   "cell_type": "code",
   "execution_count": 10,
   "metadata": {
    "ExecuteTime": {
     "end_time": "2023-08-16T02:59:12.552497400Z",
     "start_time": "2023-08-16T02:33:11.963374700Z"
    },
    "collapsed": false,
    "jupyter": {
     "outputs_hidden": false
    }
   },
   "outputs": [],
   "source": [
    "dataset['text_user'] = dataset['text_user'].apply(lambda x:[i for i in x if i in word_present_list])# 去掉未转换的词"
   ]
  },
  {
   "cell_type": "code",
   "execution_count": 12,
   "metadata": {
    "ExecuteTime": {
     "start_time": "2023-08-16T02:59:12.365596100Z"
    },
    "collapsed": false,
    "jupyter": {
     "outputs_hidden": false
    }
   },
   "outputs": [],
   "source": [
    "# 将所有word embedding的列平均值作为文本的表示\n",
    "resume_vector_array = dataset['text_user'].apply(lambda x: np.mean([np.array(w2v_model.wv[i]).reshape(1,200) for i in x], axis=0))"
   ]
  },
  {
   "cell_type": "code",
   "execution_count": 14,
   "metadata": {
    "ExecuteTime": {
     "start_time": "2023-08-16T02:59:12.366596Z"
    },
    "collapsed": false,
    "jupyter": {
     "outputs_hidden": false
    }
   },
   "outputs": [
    {
     "name": "stderr",
     "output_type": "stream",
     "text": [
      "100%|██████████| 138238/138238 [3:02:38<00:00, 12.61it/s]  \n"
     ]
    }
   ],
   "source": [
    "resume_with_word2vec = np.zeros((1,200)) # 1*100的零矩阵\n",
    "for idx in tqdm(range(len(resume_vector_array))):\n",
    "    resume_with_word2vec = np.concatenate((resume_with_word2vec, resume_vector_array.values[idx]), axis=0)# 纵向合并\n",
    "resume_with_word2vec = pd.DataFrame(resume_with_word2vec)"
   ]
  },
  {
   "cell_type": "code",
   "execution_count": 15,
   "metadata": {
    "ExecuteTime": {
     "start_time": "2023-08-16T02:59:12.367596100Z"
    },
    "collapsed": false,
    "jupyter": {
     "outputs_hidden": false
    }
   },
   "outputs": [],
   "source": [
    "dataset['text_job'] = dataset['text_job'].apply(lambda x:[i for i in x if i in word_present_list])# 去掉未转换的词\n",
    "# 将所有word embedding的列平均值作为文本的表示\n",
    "job_text_vector_array = dataset['text_job'].apply(lambda x: np.mean([np.array(w2v_model.wv[i]).reshape(1,200) for i in x], axis=0))"
   ]
  },
  {
   "cell_type": "code",
   "execution_count": 16,
   "metadata": {
    "ExecuteTime": {
     "start_time": "2023-08-16T02:59:12.368596200Z"
    },
    "collapsed": false,
    "jupyter": {
     "outputs_hidden": false
    }
   },
   "outputs": [
    {
     "name": "stderr",
     "output_type": "stream",
     "text": [
      "100%|██████████| 138238/138238 [3:06:22<00:00, 12.36it/s]  \n"
     ]
    }
   ],
   "source": [
    "job_text_with_word2vec = np.zeros((1,200))\n",
    "for idx in tqdm(range(len(job_text_vector_array))):\n",
    "    try:\n",
    "        job_text_with_word2vec = np.concatenate((job_text_with_word2vec, job_text_vector_array.values[idx]), axis=0)# 纵向合并\n",
    "    except:\n",
    "        job_text_with_word2vec = np.concatenate((job_text_with_word2vec, np.zeros((1,200))), axis=0)# 纵向合并\n",
    "job_text_with_word2vec = pd.DataFrame(job_text_with_word2vec)"
   ]
  },
  {
   "cell_type": "code",
   "execution_count": 20,
   "metadata": {},
   "outputs": [
    {
     "data": {
      "text/html": [
       "<div>\n",
       "<style scoped>\n",
       "    .dataframe tbody tr th:only-of-type {\n",
       "        vertical-align: middle;\n",
       "    }\n",
       "\n",
       "    .dataframe tbody tr th {\n",
       "        vertical-align: top;\n",
       "    }\n",
       "\n",
       "    .dataframe thead th {\n",
       "        text-align: right;\n",
       "    }\n",
       "</style>\n",
       "<table border=\"1\" class=\"dataframe\">\n",
       "  <thead>\n",
       "    <tr style=\"text-align: right;\">\n",
       "      <th></th>\n",
       "      <th>UserID</th>\n",
       "      <th>JobID</th>\n",
       "      <th>label</th>\n",
       "      <th>企业ID</th>\n",
       "      <th>企业行业一级类别</th>\n",
       "      <th>企业行业二级类别</th>\n",
       "      <th>企业行业三级类别</th>\n",
       "      <th>企业融资阶段</th>\n",
       "      <th>企业人员规模</th>\n",
       "      <th>企业上班时间</th>\n",
       "      <th>...</th>\n",
       "      <th>性别</th>\n",
       "      <th>学校</th>\n",
       "      <th>专业</th>\n",
       "      <th>学历</th>\n",
       "      <th>创建时间_y</th>\n",
       "      <th>更新时间_y</th>\n",
       "      <th>text_job</th>\n",
       "      <th>text_user</th>\n",
       "      <th>emb_job</th>\n",
       "      <th>emb_user</th>\n",
       "    </tr>\n",
       "  </thead>\n",
       "  <tbody>\n",
       "    <tr>\n",
       "      <th>0</th>\n",
       "      <td>6862870633512964096</td>\n",
       "      <td>6860521459735859200</td>\n",
       "      <td>1</td>\n",
       "      <td>6860272998989959168</td>\n",
       "      <td>互联网/IT/电子/通信</td>\n",
       "      <td>互联网/IT/电子/通信</td>\n",
       "      <td>数据服务</td>\n",
       "      <td>不需要融资</td>\n",
       "      <td>1000~9999人</td>\n",
       "      <td>08:30</td>\n",
       "      <td>...</td>\n",
       "      <td>女</td>\n",
       "      <td>大连海事大学</td>\n",
       "      <td>法学</td>\n",
       "      <td>硕士</td>\n",
       "      <td>2021-11-25 21:02:04</td>\n",
       "      <td>2021-11-25 21:02:39</td>\n",
       "      <td>[岗位职责, ：, \\n, ·,  , 业务学习, &amp;, 任务, 处理, ：,  , 严格,...</td>\n",
       "      <td>[教育, 背景,  , Education, \\n, 2015.09,  , —,  , 2...</td>\n",
       "      <td>[[0.013017808, -0.024077587, 0.11447856, 0.105...</td>\n",
       "      <td>[[0.06018763, -0.0059273904, 0.07602025, 0.037...</td>\n",
       "    </tr>\n",
       "    <tr>\n",
       "      <th>1</th>\n",
       "      <td>6862870633512964096</td>\n",
       "      <td>6958017954889863168</td>\n",
       "      <td>0</td>\n",
       "      <td>6872143749984555008</td>\n",
       "      <td>互联网/IT/电子/通信</td>\n",
       "      <td>交通/物流/贸易/零售</td>\n",
       "      <td>交通/运输</td>\n",
       "      <td>未融资</td>\n",
       "      <td>0~20人</td>\n",
       "      <td>08:30</td>\n",
       "      <td>...</td>\n",
       "      <td>女</td>\n",
       "      <td>大连海事大学</td>\n",
       "      <td>法学</td>\n",
       "      <td>硕士</td>\n",
       "      <td>2021-11-25 21:02:04</td>\n",
       "      <td>2021-11-25 21:02:39</td>\n",
       "      <td>[在, 海轮, 上, 工作, 的, 人员, 统称, 海员, 。,  , 海员, 分, 两大类...</td>\n",
       "      <td>[教育, 背景,  , Education, \\n, 2015.09,  , —,  , 2...</td>\n",
       "      <td>[[0.17614882, 0.011191479, 0.0650312, 0.085126...</td>\n",
       "      <td>[[0.06018763, -0.0059273904, 0.07602025, 0.037...</td>\n",
       "    </tr>\n",
       "    <tr>\n",
       "      <th>2</th>\n",
       "      <td>6863065345238765568</td>\n",
       "      <td>6860521458255269888</td>\n",
       "      <td>1</td>\n",
       "      <td>6860272998989959168</td>\n",
       "      <td>互联网/IT/电子/通信</td>\n",
       "      <td>互联网/IT/电子/通信</td>\n",
       "      <td>数据服务</td>\n",
       "      <td>不需要融资</td>\n",
       "      <td>1000~9999人</td>\n",
       "      <td>08:30</td>\n",
       "      <td>...</td>\n",
       "      <td>女</td>\n",
       "      <td>淮阴工学院</td>\n",
       "      <td>计算机应用技术</td>\n",
       "      <td>硕士</td>\n",
       "      <td>2021-11-26 09:55:47</td>\n",
       "      <td>2023-02-03 09:32:22</td>\n",
       "      <td>[岗位职责, ：, \\n, 1, .,  , 响应, 用户, IT, 相关, 问题, 请求,...</td>\n",
       "      <td>[基本, 信息, \\n, 姓,  , 名,  , ：, 张,  , 发, \\n, 出生年月,...</td>\n",
       "      <td>[[0.060279142, -0.067548156, 0.111521624, 0.11...</td>\n",
       "      <td>[[0.021132212, -0.083985, 0.12868516, 0.115934...</td>\n",
       "    </tr>\n",
       "    <tr>\n",
       "      <th>3</th>\n",
       "      <td>6863065345238765568</td>\n",
       "      <td>6860644503477293056</td>\n",
       "      <td>1</td>\n",
       "      <td>6860297756443938816</td>\n",
       "      <td>互联网/IT/电子/通信</td>\n",
       "      <td>互联网/IT/电子/通信</td>\n",
       "      <td>计算机软件</td>\n",
       "      <td>未融资</td>\n",
       "      <td>100~499人</td>\n",
       "      <td>08:30</td>\n",
       "      <td>...</td>\n",
       "      <td>女</td>\n",
       "      <td>淮阴工学院</td>\n",
       "      <td>计算机应用技术</td>\n",
       "      <td>硕士</td>\n",
       "      <td>2021-11-26 09:55:47</td>\n",
       "      <td>2023-02-03 09:32:22</td>\n",
       "      <td>[帮助, 客户, 公司, 进行, 信息化, 咨询, 。, 具体, 是, 通过, SAP,  ...</td>\n",
       "      <td>[基本, 信息, \\n, 姓,  , 名,  , ：, 张,  , 发, \\n, 出生年月,...</td>\n",
       "      <td>[[0.029140053, -0.0015383105, 0.17354803, 0.06...</td>\n",
       "      <td>[[0.021132212, -0.083985, 0.12868516, 0.115934...</td>\n",
       "    </tr>\n",
       "    <tr>\n",
       "      <th>4</th>\n",
       "      <td>6863065345238765568</td>\n",
       "      <td>7032757799176114176</td>\n",
       "      <td>0</td>\n",
       "      <td>6872870554169249792</td>\n",
       "      <td>互联网/IT/电子/通信</td>\n",
       "      <td>服务业</td>\n",
       "      <td>酒店</td>\n",
       "      <td>不需要融资</td>\n",
       "      <td>100~499人</td>\n",
       "      <td>08:30</td>\n",
       "      <td>...</td>\n",
       "      <td>女</td>\n",
       "      <td>淮阴工学院</td>\n",
       "      <td>计算机应用技术</td>\n",
       "      <td>硕士</td>\n",
       "      <td>2021-11-26 09:55:47</td>\n",
       "      <td>2023-02-03 09:32:22</td>\n",
       "      <td>[负责, 起草, 文书]</td>\n",
       "      <td>[基本, 信息, \\n, 姓,  , 名,  , ：, 张,  , 发, \\n, 出生年月,...</td>\n",
       "      <td>[[0.2728341, 0.12886722, 0.00583907, 0.1525331...</td>\n",
       "      <td>[[0.021132212, -0.083985, 0.12868516, 0.115934...</td>\n",
       "    </tr>\n",
       "  </tbody>\n",
       "</table>\n",
       "<p>5 rows × 47 columns</p>\n",
       "</div>"
      ],
      "text/plain": [
       "                UserID                JobID  label                 企业ID  \\\n",
       "0  6862870633512964096  6860521459735859200      1  6860272998989959168   \n",
       "1  6862870633512964096  6958017954889863168      0  6872143749984555008   \n",
       "2  6863065345238765568  6860521458255269888      1  6860272998989959168   \n",
       "3  6863065345238765568  6860644503477293056      1  6860297756443938816   \n",
       "4  6863065345238765568  7032757799176114176      0  6872870554169249792   \n",
       "\n",
       "       企业行业一级类别      企业行业二级类别 企业行业三级类别 企业融资阶段      企业人员规模 企业上班时间  ... 性别  \\\n",
       "0  互联网/IT/电子/通信  互联网/IT/电子/通信     数据服务  不需要融资  1000~9999人  08:30  ...  女   \n",
       "1  互联网/IT/电子/通信   交通/物流/贸易/零售    交通/运输    未融资       0~20人  08:30  ...  女   \n",
       "2  互联网/IT/电子/通信  互联网/IT/电子/通信     数据服务  不需要融资  1000~9999人  08:30  ...  女   \n",
       "3  互联网/IT/电子/通信  互联网/IT/电子/通信    计算机软件    未融资    100~499人  08:30  ...  女   \n",
       "4  互联网/IT/电子/通信           服务业       酒店  不需要融资    100~499人  08:30  ...  女   \n",
       "\n",
       "       学校       专业  学历               创建时间_y               更新时间_y  \\\n",
       "0  大连海事大学       法学  硕士  2021-11-25 21:02:04  2021-11-25 21:02:39   \n",
       "1  大连海事大学       法学  硕士  2021-11-25 21:02:04  2021-11-25 21:02:39   \n",
       "2   淮阴工学院  计算机应用技术  硕士  2021-11-26 09:55:47  2023-02-03 09:32:22   \n",
       "3   淮阴工学院  计算机应用技术  硕士  2021-11-26 09:55:47  2023-02-03 09:32:22   \n",
       "4   淮阴工学院  计算机应用技术  硕士  2021-11-26 09:55:47  2023-02-03 09:32:22   \n",
       "\n",
       "                                            text_job  \\\n",
       "0  [岗位职责, ：, \\n, ·,  , 业务学习, &, 任务, 处理, ：,  , 严格,...   \n",
       "1  [在, 海轮, 上, 工作, 的, 人员, 统称, 海员, 。,  , 海员, 分, 两大类...   \n",
       "2  [岗位职责, ：, \\n, 1, .,  , 响应, 用户, IT, 相关, 问题, 请求,...   \n",
       "3  [帮助, 客户, 公司, 进行, 信息化, 咨询, 。, 具体, 是, 通过, SAP,  ...   \n",
       "4                                       [负责, 起草, 文书]   \n",
       "\n",
       "                                           text_user  \\\n",
       "0  [教育, 背景,  , Education, \\n, 2015.09,  , —,  , 2...   \n",
       "1  [教育, 背景,  , Education, \\n, 2015.09,  , —,  , 2...   \n",
       "2  [基本, 信息, \\n, 姓,  , 名,  , ：, 张,  , 发, \\n, 出生年月,...   \n",
       "3  [基本, 信息, \\n, 姓,  , 名,  , ：, 张,  , 发, \\n, 出生年月,...   \n",
       "4  [基本, 信息, \\n, 姓,  , 名,  , ：, 张,  , 发, \\n, 出生年月,...   \n",
       "\n",
       "                                             emb_job  \\\n",
       "0  [[0.013017808, -0.024077587, 0.11447856, 0.105...   \n",
       "1  [[0.17614882, 0.011191479, 0.0650312, 0.085126...   \n",
       "2  [[0.060279142, -0.067548156, 0.111521624, 0.11...   \n",
       "3  [[0.029140053, -0.0015383105, 0.17354803, 0.06...   \n",
       "4  [[0.2728341, 0.12886722, 0.00583907, 0.1525331...   \n",
       "\n",
       "                                            emb_user  \n",
       "0  [[0.06018763, -0.0059273904, 0.07602025, 0.037...  \n",
       "1  [[0.06018763, -0.0059273904, 0.07602025, 0.037...  \n",
       "2  [[0.021132212, -0.083985, 0.12868516, 0.115934...  \n",
       "3  [[0.021132212, -0.083985, 0.12868516, 0.115934...  \n",
       "4  [[0.021132212, -0.083985, 0.12868516, 0.115934...  \n",
       "\n",
       "[5 rows x 47 columns]"
      ]
     },
     "execution_count": 20,
     "metadata": {},
     "output_type": "execute_result"
    }
   ],
   "source": [
    "dataset['emb_job'] = job_text_vector_array\n",
    "dataset['emb_user'] = resume_vector_array\n",
    "\n",
    "dataset.head(5)"
   ]
  },
  {
   "cell_type": "code",
   "execution_count": 30,
   "metadata": {
    "ExecuteTime": {
     "start_time": "2023-08-16T02:59:12.368596200Z"
    },
    "collapsed": false,
    "jupyter": {
     "outputs_hidden": false
    }
   },
   "outputs": [],
   "source": [
    "X_t = []\n",
    "for i in range(0,len(dataset)):\n",
    "    X_t.append(np.concatenate((dataset.loc[i,'emb_user'].tolist()[0],dataset.loc[i,'emb_job'].tolist()[0]), axis=0))\n",
    "\n",
    "# X_t = np.concatenate(resume_vector_array,job_text_vector_array)\n",
    "\n",
    "Y_t = dataset.label.values.tolist()"
   ]
  },
  {
   "cell_type": "code",
   "execution_count": 31,
   "metadata": {},
   "outputs": [
    {
     "name": "stdout",
     "output_type": "stream",
     "text": [
      "138238\n"
     ]
    }
   ],
   "source": [
    "print(len(X_t))"
   ]
  },
  {
   "cell_type": "code",
   "execution_count": 32,
   "metadata": {
    "ExecuteTime": {
     "start_time": "2023-08-16T02:59:12.369596Z"
    },
    "collapsed": false,
    "jupyter": {
     "outputs_hidden": false
    }
   },
   "outputs": [],
   "source": [
    "X_train, X_test,Y_train,Y_test = train_test_split(X_t,Y_t,test_size=0.2,random_state=20)"
   ]
  },
  {
   "cell_type": "code",
   "execution_count": 33,
   "metadata": {
    "ExecuteTime": {
     "start_time": "2023-08-16T02:59:12.370597300Z"
    },
    "collapsed": false,
    "jupyter": {
     "outputs_hidden": false
    }
   },
   "outputs": [],
   "source": [
    "def show_result(y_true, y_prediction):\n",
    "    print('acc:',accuracy_score(y_true, y_prediction))\n",
    "    print('precision:',precision_score(y_true, y_prediction))\n",
    "    print('recall:',recall_score(y_true, y_prediction))\n",
    "    print('f1:',f1_score(y_true, y_prediction))\n",
    "    print('auc:',roc_auc_score(y_true, y_prediction))"
   ]
  },
  {
   "cell_type": "code",
   "execution_count": 34,
   "metadata": {
    "ExecuteTime": {
     "start_time": "2023-08-16T02:59:12.371596100Z"
    },
    "collapsed": false,
    "jupyter": {
     "outputs_hidden": false
    }
   },
   "outputs": [
    {
     "name": "stdout",
     "output_type": "stream",
     "text": [
      "acc: 0.6709707754629629\n",
      "precision: 0.6744308759234132\n",
      "recall: 0.6518761384335154\n",
      "f1: 0.6629617279834018\n",
      "auc: 0.670835002348985\n"
     ]
    }
   ],
   "source": [
    "'''\n",
    "    logistic regression\n",
    "'''\n",
    "lr = LogisticRegression(max_iter=1000)\n",
    "lr.fit(X_train, Y_train)\n",
    "y_pred = lr.predict(X_test)\n",
    "show_result(Y_test, y_pred)"
   ]
  },
  {
   "cell_type": "code",
   "execution_count": 35,
   "metadata": {
    "ExecuteTime": {
     "start_time": "2023-08-16T02:59:12.371596100Z"
    },
    "collapsed": false,
    "jupyter": {
     "outputs_hidden": false
    }
   },
   "outputs": [
    {
     "name": "stdout",
     "output_type": "stream",
     "text": [
      "acc: 0.5958839699074074\n",
      "precision: 0.6583126550868487\n",
      "recall: 0.3865938069216758\n",
      "f1: 0.48712416800550845\n",
      "auc: 0.594395804559739\n"
     ]
    }
   ],
   "source": [
    "'''\n",
    "    GaussianNB\n",
    "'''\n",
    "nb = GaussianNB()\n",
    "nb.fit(X_train, Y_train)\n",
    "y_pred = nb.predict(X_test)\n",
    "show_result(Y_test, y_pred)"
   ]
  },
  {
   "cell_type": "code",
   "execution_count": 36,
   "metadata": {
    "ExecuteTime": {
     "start_time": "2023-08-16T02:59:12.372596100Z"
    },
    "collapsed": false,
    "jupyter": {
     "outputs_hidden": false
    }
   },
   "outputs": [
    {
     "name": "stdout",
     "output_type": "stream",
     "text": [
      "acc: 0.7226200810185185\n",
      "precision: 0.7129994372537986\n",
      "recall: 0.7385063752276867\n",
      "f1: 0.7255287928134283\n",
      "auc: 0.7227330410936968\n"
     ]
    }
   ],
   "source": [
    "'''\n",
    "    DecisionTree\n",
    "'''\n",
    "dt = DecisionTreeClassifier()\n",
    "dt.fit(X_train, Y_train)\n",
    "y_pred = dt.predict(X_test)\n",
    "show_result(Y_test, y_pred)"
   ]
  },
  {
   "cell_type": "code",
   "execution_count": 37,
   "metadata": {
    "ExecuteTime": {
     "start_time": "2023-08-16T02:59:12.372596100Z"
    },
    "collapsed": false,
    "jupyter": {
     "outputs_hidden": false
    }
   },
   "outputs": [
    {
     "name": "stdout",
     "output_type": "stream",
     "text": [
      "acc: 0.8285228587962963\n",
      "precision: 0.8434250764525993\n",
      "recall: 0.8037887067395264\n",
      "f1: 0.8231300130572655\n",
      "auc: 0.8283469857047484\n"
     ]
    }
   ],
   "source": [
    "'''\n",
    "    RandomForest\n",
    "'''\n",
    "rf = RandomForestClassifier()\n",
    "rf.fit(X_train, Y_train)\n",
    "y_pred = rf.predict(X_test)\n",
    "show_result(Y_test, y_pred)"
   ]
  },
  {
   "cell_type": "code",
   "execution_count": 38,
   "metadata": {
    "ExecuteTime": {
     "start_time": "2023-08-16T02:59:12.373596Z"
    },
    "collapsed": false,
    "jupyter": {
     "outputs_hidden": false
    }
   },
   "outputs": [
    {
     "name": "stdout",
     "output_type": "stream",
     "text": [
      "acc: 0.6591073495370371\n",
      "precision: 0.6638719512195121\n",
      "recall: 0.634608378870674\n",
      "f1: 0.648910411622276\n",
      "auc: 0.6589331487113551\n"
     ]
    }
   ],
   "source": [
    "'''\n",
    "    AdaBoost\n",
    "'''\n",
    "ada = AdaBoostClassifier()\n",
    "ada.fit(X_train, Y_train)\n",
    "y_pred = ada.predict(X_test)\n",
    "show_result(Y_test, y_pred)"
   ]
  },
  {
   "cell_type": "code",
   "execution_count": 41,
   "metadata": {},
   "outputs": [
    {
     "name": "stdout",
     "output_type": "stream",
     "text": [
      "acc: 0.6695601851851852\n",
      "precision: 0.6764864241212214\n",
      "recall: 0.6408014571948998\n",
      "f1: 0.658160592681284\n",
      "auc: 0.6693556951994754\n"
     ]
    }
   ],
   "source": [
    "'''\n",
    "    linearRegression\n",
    "'''\n",
    "from sklearn.linear_model import LinearRegression\n",
    "lr = LinearRegression()\n",
    "lr.fit(X_train, Y_train)\n",
    "y_pred = lr.predict(X_test)\n",
    "y_pred = [0 if i<0.5 else 1 for i in y_pred]\n",
    "show_result(Y_test, y_pred)"
   ]
  }
 ],
 "metadata": {
  "kernelspec": {
   "display_name": "Python 3 (ipykernel)",
   "language": "python",
   "name": "python3"
  },
  "language_info": {
   "codemirror_mode": {
    "name": "ipython",
    "version": 3
   },
   "file_extension": ".py",
   "mimetype": "text/x-python",
   "name": "python",
   "nbconvert_exporter": "python",
   "pygments_lexer": "ipython3",
   "version": "3.8.10"
  }
 },
 "nbformat": 4,
 "nbformat_minor": 4
}
